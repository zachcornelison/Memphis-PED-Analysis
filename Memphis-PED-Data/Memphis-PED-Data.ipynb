{
 "cells": [
  {
   "cell_type": "code",
   "execution_count": 1,
   "metadata": {},
   "outputs": [
    {
     "data": {
      "text/html": [
       "        <script type=\"text/javascript\">\n",
       "        window.PlotlyConfig = {MathJaxConfig: 'local'};\n",
       "        if (window.MathJax) {MathJax.Hub.Config({SVG: {font: \"STIX-Web\"}});}\n",
       "        if (typeof require !== 'undefined') {\n",
       "        require.undef(\"plotly\");\n",
       "        requirejs.config({\n",
       "            paths: {\n",
       "                'plotly': ['https://cdn.plot.ly/plotly-latest.min']\n",
       "            }\n",
       "        });\n",
       "        require(['plotly'], function(Plotly) {\n",
       "            window._Plotly = Plotly;\n",
       "        });\n",
       "        }\n",
       "        </script>\n",
       "        "
      ]
     },
     "metadata": {},
     "output_type": "display_data"
    }
   ],
   "source": [
    "import pandas as pd\n",
    "import seaborn as sns\n",
    "from matplotlib import pyplot\n",
    "from pandas.plotting import autocorrelation_plot\n",
    "from pandas.plotting import lag_plot\n",
    "import numpy as np\n",
    "from plotnine import *\n",
    "from plotly.offline import init_notebook_mode, iplot\n",
    "init_notebook_mode(connected=True)\n",
    "import plotly.graph_objs as go"
   ]
  },
  {
   "cell_type": "code",
   "execution_count": 2,
   "metadata": {},
   "outputs": [],
   "source": [
    "peds = pd.read_csv(\"MemPedCount.csv\", parse_dates=['Time'])\n",
    "peds2 = peds.set_index('Time')"
   ]
  },
  {
   "cell_type": "code",
   "execution_count": 3,
   "metadata": {},
   "outputs": [
    {
     "data": {
      "text/html": [
       "<div>\n",
       "<style scoped>\n",
       "    .dataframe tbody tr th:only-of-type {\n",
       "        vertical-align: middle;\n",
       "    }\n",
       "\n",
       "    .dataframe tbody tr th {\n",
       "        vertical-align: top;\n",
       "    }\n",
       "\n",
       "    .dataframe thead th {\n",
       "        text-align: right;\n",
       "    }\n",
       "</style>\n",
       "<table border=\"1\" class=\"dataframe\">\n",
       "  <thead>\n",
       "    <tr style=\"text-align: right;\">\n",
       "      <th></th>\n",
       "      <th>Time</th>\n",
       "      <th>Marshall - Sun Studio</th>\n",
       "      <th>Monroe - High Cotton / Edge Alley</th>\n",
       "      <th>Monroe &amp; Main</th>\n",
       "      <th>Peabody &amp; Main</th>\n",
       "      <th>Jefferson &amp; Main</th>\n",
       "      <th>Second St</th>\n",
       "      <th>S. Main &amp; Pontotoc</th>\n",
       "    </tr>\n",
       "  </thead>\n",
       "  <tbody>\n",
       "    <tr>\n",
       "      <th>0</th>\n",
       "      <td>2018-07-01 00:00:00</td>\n",
       "      <td>0</td>\n",
       "      <td>1</td>\n",
       "      <td>377</td>\n",
       "      <td>227</td>\n",
       "      <td>427</td>\n",
       "      <td>431</td>\n",
       "      <td>164</td>\n",
       "    </tr>\n",
       "    <tr>\n",
       "      <th>1</th>\n",
       "      <td>2018-07-01 01:00:00</td>\n",
       "      <td>0</td>\n",
       "      <td>0</td>\n",
       "      <td>266</td>\n",
       "      <td>187</td>\n",
       "      <td>187</td>\n",
       "      <td>601</td>\n",
       "      <td>148</td>\n",
       "    </tr>\n",
       "    <tr>\n",
       "      <th>2</th>\n",
       "      <td>2018-07-01 02:00:00</td>\n",
       "      <td>0</td>\n",
       "      <td>0</td>\n",
       "      <td>142</td>\n",
       "      <td>76</td>\n",
       "      <td>135</td>\n",
       "      <td>364</td>\n",
       "      <td>96</td>\n",
       "    </tr>\n",
       "    <tr>\n",
       "      <th>3</th>\n",
       "      <td>2018-07-01 03:00:00</td>\n",
       "      <td>0</td>\n",
       "      <td>0</td>\n",
       "      <td>105</td>\n",
       "      <td>75</td>\n",
       "      <td>65</td>\n",
       "      <td>227</td>\n",
       "      <td>40</td>\n",
       "    </tr>\n",
       "    <tr>\n",
       "      <th>4</th>\n",
       "      <td>2018-07-01 04:00:00</td>\n",
       "      <td>0</td>\n",
       "      <td>0</td>\n",
       "      <td>12</td>\n",
       "      <td>20</td>\n",
       "      <td>28</td>\n",
       "      <td>118</td>\n",
       "      <td>28</td>\n",
       "    </tr>\n",
       "  </tbody>\n",
       "</table>\n",
       "</div>"
      ],
      "text/plain": [
       "                 Time  Marshall - Sun Studio  \\\n",
       "0 2018-07-01 00:00:00                      0   \n",
       "1 2018-07-01 01:00:00                      0   \n",
       "2 2018-07-01 02:00:00                      0   \n",
       "3 2018-07-01 03:00:00                      0   \n",
       "4 2018-07-01 04:00:00                      0   \n",
       "\n",
       "   Monroe - High Cotton / Edge Alley  Monroe & Main  Peabody & Main  \\\n",
       "0                                  1            377             227   \n",
       "1                                  0            266             187   \n",
       "2                                  0            142              76   \n",
       "3                                  0            105              75   \n",
       "4                                  0             12              20   \n",
       "\n",
       "   Jefferson & Main  Second St  S. Main & Pontotoc  \n",
       "0               427        431                 164  \n",
       "1               187        601                 148  \n",
       "2               135        364                  96  \n",
       "3                65        227                  40  \n",
       "4                28        118                  28  "
      ]
     },
     "execution_count": 3,
     "metadata": {},
     "output_type": "execute_result"
    }
   ],
   "source": [
    "peds.head()"
   ]
  },
  {
   "cell_type": "code",
   "execution_count": 4,
   "metadata": {},
   "outputs": [
    {
     "data": {
      "text/plain": [
       "(3672, 8)"
      ]
     },
     "execution_count": 4,
     "metadata": {},
     "output_type": "execute_result"
    }
   ],
   "source": [
    "peds.shape"
   ]
  },
  {
   "cell_type": "code",
   "execution_count": 5,
   "metadata": {
    "scrolled": false
   },
   "outputs": [
    {
     "data": {
      "text/plain": [
       "<matplotlib.axes._subplots.AxesSubplot at 0x1c2cf2fc18>"
      ]
     },
     "execution_count": 5,
     "metadata": {},
     "output_type": "execute_result"
    },
    {
     "data": {
      "image/png": "[encoded data removed]",
      "text/plain": [
       "<Figure size 720x432 with 1 Axes>"
      ]
     },
     "metadata": {
      "needs_background": "light"
     },
     "output_type": "display_data"
    }
   ],
   "source": [
    "peds2['Peabody & Main'].resample('M').mean().plot.line(figsize=(10,6), fontsize=14)"
   ]
  },
  {
   "cell_type": "code",
   "execution_count": 6,
   "metadata": {},
   "outputs": [
    {
     "data": {
      "text/plain": [
       "1059"
      ]
     },
     "execution_count": 6,
     "metadata": {},
     "output_type": "execute_result"
    }
   ],
   "source": [
    "peds['Second St'].max()"
   ]
  },
  {
   "cell_type": "code",
   "execution_count": 7,
   "metadata": {
    "scrolled": false
   },
   "outputs": [
    {
     "data": {
      "text/plain": [
       "<matplotlib.axes._subplots.AxesSubplot at 0x1c2d6b1160>"
      ]
     },
     "execution_count": 7,
     "metadata": {},
     "output_type": "execute_result"
    },
    {
     "data": {
      "image/png": "[encoded data removed]",
      "text/plain": [
       "<Figure size 720x432 with 1 Axes>"
      ]
     },
     "metadata": {
      "needs_background": "light"
     },
     "output_type": "display_data"
    }
   ],
   "source": [
    "peds['Second St'].sort_values().plot.hist(\n",
    "    figsize=(10,6),\n",
    "    color='purple',\n",
    "    fontsize=16,\n",
    "    #title=\"Total Ring Time Counts\"\n",
    ")"
   ]
  },
  {
   "cell_type": "code",
   "execution_count": 8,
   "metadata": {},
   "outputs": [],
   "source": [
    "sample = peds['Second St'] == 1059"
   ]
  },
  {
   "cell_type": "code",
   "execution_count": 9,
   "metadata": {},
   "outputs": [
    {
     "data": {
      "text/html": [
       "<div>\n",
       "<style scoped>\n",
       "    .dataframe tbody tr th:only-of-type {\n",
       "        vertical-align: middle;\n",
       "    }\n",
       "\n",
       "    .dataframe tbody tr th {\n",
       "        vertical-align: top;\n",
       "    }\n",
       "\n",
       "    .dataframe thead th {\n",
       "        text-align: right;\n",
       "    }\n",
       "</style>\n",
       "<table border=\"1\" class=\"dataframe\">\n",
       "  <thead>\n",
       "    <tr style=\"text-align: right;\">\n",
       "      <th></th>\n",
       "      <th>Time</th>\n",
       "      <th>Marshall - Sun Studio</th>\n",
       "      <th>Monroe - High Cotton / Edge Alley</th>\n",
       "      <th>Monroe &amp; Main</th>\n",
       "      <th>Peabody &amp; Main</th>\n",
       "      <th>Jefferson &amp; Main</th>\n",
       "      <th>Second St</th>\n",
       "      <th>S. Main &amp; Pontotoc</th>\n",
       "    </tr>\n",
       "  </thead>\n",
       "  <tbody>\n",
       "    <tr>\n",
       "      <th>832</th>\n",
       "      <td>2018-08-04 16:00:00</td>\n",
       "      <td>39</td>\n",
       "      <td>15</td>\n",
       "      <td>273</td>\n",
       "      <td>472</td>\n",
       "      <td>198</td>\n",
       "      <td>1059</td>\n",
       "      <td>173</td>\n",
       "    </tr>\n",
       "  </tbody>\n",
       "</table>\n",
       "</div>"
      ],
      "text/plain": [
       "                   Time  Marshall - Sun Studio  \\\n",
       "832 2018-08-04 16:00:00                     39   \n",
       "\n",
       "     Monroe - High Cotton / Edge Alley  Monroe & Main  Peabody & Main  \\\n",
       "832                                 15            273             472   \n",
       "\n",
       "     Jefferson & Main  Second St  S. Main & Pontotoc  \n",
       "832               198       1059                 173  "
      ]
     },
     "execution_count": 9,
     "metadata": {},
     "output_type": "execute_result"
    }
   ],
   "source": [
    "peds[sample]"
   ]
  },
  {
   "cell_type": "code",
   "execution_count": 10,
   "metadata": {},
   "outputs": [
    {
     "data": {
      "text/plain": [
       "917"
      ]
     },
     "execution_count": 10,
     "metadata": {},
     "output_type": "execute_result"
    }
   ],
   "source": [
    "peds['Monroe & Main'].max()"
   ]
  },
  {
   "cell_type": "code",
   "execution_count": 11,
   "metadata": {},
   "outputs": [
    {
     "data": {
      "text/plain": [
       "232"
      ]
     },
     "execution_count": 11,
     "metadata": {},
     "output_type": "execute_result"
    }
   ],
   "source": [
    "peds['Marshall - Sun Studio'].max()"
   ]
  },
  {
   "cell_type": "code",
   "execution_count": 12,
   "metadata": {},
   "outputs": [
    {
     "data": {
      "text/plain": [
       "359"
      ]
     },
     "execution_count": 12,
     "metadata": {},
     "output_type": "execute_result"
    }
   ],
   "source": [
    "peds['Monroe - High Cotton / Edge Alley'].max()"
   ]
  },
  {
   "cell_type": "code",
   "execution_count": 13,
   "metadata": {},
   "outputs": [
    {
     "data": {
      "text/plain": [
       "917"
      ]
     },
     "execution_count": 13,
     "metadata": {},
     "output_type": "execute_result"
    }
   ],
   "source": [
    "peds['Monroe & Main'].max()"
   ]
  },
  {
   "cell_type": "code",
   "execution_count": 14,
   "metadata": {},
   "outputs": [
    {
     "data": {
      "text/plain": [
       "848"
      ]
     },
     "execution_count": 14,
     "metadata": {},
     "output_type": "execute_result"
    }
   ],
   "source": [
    "peds['Peabody & Main'].max()"
   ]
  },
  {
   "cell_type": "code",
   "execution_count": 15,
   "metadata": {},
   "outputs": [
    {
     "data": {
      "text/plain": [
       "847"
      ]
     },
     "execution_count": 15,
     "metadata": {},
     "output_type": "execute_result"
    }
   ],
   "source": [
    "peds['Jefferson & Main'].max()"
   ]
  },
  {
   "cell_type": "code",
   "execution_count": 16,
   "metadata": {},
   "outputs": [
    {
     "data": {
      "text/plain": [
       "654"
      ]
     },
     "execution_count": 16,
     "metadata": {},
     "output_type": "execute_result"
    }
   ],
   "source": [
    "peds['S. Main & Pontotoc'].max()"
   ]
  },
  {
   "cell_type": "code",
   "execution_count": 17,
   "metadata": {},
   "outputs": [
    {
     "data": {
      "text/plain": [
       "<matplotlib.axes._subplots.AxesSubplot at 0x1c2d791cf8>"
      ]
     },
     "execution_count": 17,
     "metadata": {},
     "output_type": "execute_result"
    },
    {
     "data": {
      "image/png": "[encoded data removed]",
      "text/plain": [
       "<Figure size 432x288 with 1 Axes>"
      ]
     },
     "metadata": {
      "needs_background": "light"
     },
     "output_type": "display_data"
    }
   ],
   "source": [
    "peds.plot.scatter(x='Monroe & Main', y='Second St')"
   ]
  },
  {
   "cell_type": "code",
   "execution_count": 18,
   "metadata": {},
   "outputs": [
    {
     "data": {
      "text/plain": [
       "'Saturday'"
      ]
     },
     "execution_count": 18,
     "metadata": {},
     "output_type": "execute_result"
    }
   ],
   "source": [
    "test = peds['Time'].loc[505].dayofweek\n",
    "if(test == 6):\n",
    "    test = 'Saturday'\n",
    "    \n",
    "test"
   ]
  },
  {
   "cell_type": "code",
   "execution_count": 19,
   "metadata": {},
   "outputs": [],
   "source": [
    "days = peds.Time\n",
    "days = pd.to_datetime(days)\n",
    "days = days.dt.day_name()"
   ]
  },
  {
   "cell_type": "code",
   "execution_count": 20,
   "metadata": {},
   "outputs": [
    {
     "data": {
      "text/plain": [
       "0    Sunday\n",
       "1    Sunday\n",
       "2    Sunday\n",
       "3    Sunday\n",
       "4    Sunday\n",
       "Name: Time, dtype: object"
      ]
     },
     "execution_count": 20,
     "metadata": {},
     "output_type": "execute_result"
    }
   ],
   "source": [
    "days.head()"
   ]
  },
  {
   "cell_type": "code",
   "execution_count": 21,
   "metadata": {},
   "outputs": [],
   "source": [
    "peds['Weekday'] = days"
   ]
  },
  {
   "cell_type": "code",
   "execution_count": 22,
   "metadata": {},
   "outputs": [],
   "source": [
    "export = peds.to_csv(r'MemPedCountWithDays.csv', index=False)"
   ]
  },
  {
   "cell_type": "code",
   "execution_count": 23,
   "metadata": {},
   "outputs": [],
   "source": [
    "new = pd.read_csv(\"MemPedCountWithDays.csv\", parse_dates=['Time'])"
   ]
  },
  {
   "cell_type": "code",
   "execution_count": 24,
   "metadata": {},
   "outputs": [],
   "source": [
    "new = new.set_index('Time')"
   ]
  },
  {
   "cell_type": "code",
   "execution_count": 25,
   "metadata": {},
   "outputs": [
    {
     "data": {
      "text/html": [
       "<div>\n",
       "<style scoped>\n",
       "    .dataframe tbody tr th:only-of-type {\n",
       "        vertical-align: middle;\n",
       "    }\n",
       "\n",
       "    .dataframe tbody tr th {\n",
       "        vertical-align: top;\n",
       "    }\n",
       "\n",
       "    .dataframe thead th {\n",
       "        text-align: right;\n",
       "    }\n",
       "</style>\n",
       "<table border=\"1\" class=\"dataframe\">\n",
       "  <thead>\n",
       "    <tr style=\"text-align: right;\">\n",
       "      <th></th>\n",
       "      <th>Marshall - Sun Studio</th>\n",
       "      <th>Monroe - High Cotton / Edge Alley</th>\n",
       "      <th>Monroe &amp; Main</th>\n",
       "      <th>Peabody &amp; Main</th>\n",
       "      <th>Jefferson &amp; Main</th>\n",
       "      <th>Second St</th>\n",
       "      <th>S. Main &amp; Pontotoc</th>\n",
       "      <th>Weekday</th>\n",
       "    </tr>\n",
       "    <tr>\n",
       "      <th>Time</th>\n",
       "      <th></th>\n",
       "      <th></th>\n",
       "      <th></th>\n",
       "      <th></th>\n",
       "      <th></th>\n",
       "      <th></th>\n",
       "      <th></th>\n",
       "      <th></th>\n",
       "    </tr>\n",
       "  </thead>\n",
       "  <tbody>\n",
       "    <tr>\n",
       "      <th>2018-07-01 00:00:00</th>\n",
       "      <td>0</td>\n",
       "      <td>1</td>\n",
       "      <td>377</td>\n",
       "      <td>227</td>\n",
       "      <td>427</td>\n",
       "      <td>431</td>\n",
       "      <td>164</td>\n",
       "      <td>Sunday</td>\n",
       "    </tr>\n",
       "    <tr>\n",
       "      <th>2018-07-01 01:00:00</th>\n",
       "      <td>0</td>\n",
       "      <td>0</td>\n",
       "      <td>266</td>\n",
       "      <td>187</td>\n",
       "      <td>187</td>\n",
       "      <td>601</td>\n",
       "      <td>148</td>\n",
       "      <td>Sunday</td>\n",
       "    </tr>\n",
       "    <tr>\n",
       "      <th>2018-07-01 02:00:00</th>\n",
       "      <td>0</td>\n",
       "      <td>0</td>\n",
       "      <td>142</td>\n",
       "      <td>76</td>\n",
       "      <td>135</td>\n",
       "      <td>364</td>\n",
       "      <td>96</td>\n",
       "      <td>Sunday</td>\n",
       "    </tr>\n",
       "    <tr>\n",
       "      <th>2018-07-01 03:00:00</th>\n",
       "      <td>0</td>\n",
       "      <td>0</td>\n",
       "      <td>105</td>\n",
       "      <td>75</td>\n",
       "      <td>65</td>\n",
       "      <td>227</td>\n",
       "      <td>40</td>\n",
       "      <td>Sunday</td>\n",
       "    </tr>\n",
       "    <tr>\n",
       "      <th>2018-07-01 04:00:00</th>\n",
       "      <td>0</td>\n",
       "      <td>0</td>\n",
       "      <td>12</td>\n",
       "      <td>20</td>\n",
       "      <td>28</td>\n",
       "      <td>118</td>\n",
       "      <td>28</td>\n",
       "      <td>Sunday</td>\n",
       "    </tr>\n",
       "  </tbody>\n",
       "</table>\n",
       "</div>"
      ],
      "text/plain": [
       "                     Marshall - Sun Studio  Monroe - High Cotton / Edge Alley  \\\n",
       "Time                                                                            \n",
       "2018-07-01 00:00:00                      0                                  1   \n",
       "2018-07-01 01:00:00                      0                                  0   \n",
       "2018-07-01 02:00:00                      0                                  0   \n",
       "2018-07-01 03:00:00                      0                                  0   \n",
       "2018-07-01 04:00:00                      0                                  0   \n",
       "\n",
       "                     Monroe & Main  Peabody & Main  Jefferson & Main  \\\n",
       "Time                                                                   \n",
       "2018-07-01 00:00:00            377             227               427   \n",
       "2018-07-01 01:00:00            266             187               187   \n",
       "2018-07-01 02:00:00            142              76               135   \n",
       "2018-07-01 03:00:00            105              75                65   \n",
       "2018-07-01 04:00:00             12              20                28   \n",
       "\n",
       "                     Second St  S. Main & Pontotoc Weekday  \n",
       "Time                                                        \n",
       "2018-07-01 00:00:00        431                 164  Sunday  \n",
       "2018-07-01 01:00:00        601                 148  Sunday  \n",
       "2018-07-01 02:00:00        364                  96  Sunday  \n",
       "2018-07-01 03:00:00        227                  40  Sunday  \n",
       "2018-07-01 04:00:00        118                  28  Sunday  "
      ]
     },
     "execution_count": 25,
     "metadata": {},
     "output_type": "execute_result"
    }
   ],
   "source": [
    "new.head()"
   ]
  },
  {
   "cell_type": "code",
   "execution_count": 26,
   "metadata": {},
   "outputs": [],
   "source": [
    "monday = new[new['Weekday'] == 'Monday']"
   ]
  },
  {
   "cell_type": "code",
   "execution_count": 27,
   "metadata": {},
   "outputs": [
    {
     "data": {
      "text/html": [
       "<div>\n",
       "<style scoped>\n",
       "    .dataframe tbody tr th:only-of-type {\n",
       "        vertical-align: middle;\n",
       "    }\n",
       "\n",
       "    .dataframe tbody tr th {\n",
       "        vertical-align: top;\n",
       "    }\n",
       "\n",
       "    .dataframe thead th {\n",
       "        text-align: right;\n",
       "    }\n",
       "</style>\n",
       "<table border=\"1\" class=\"dataframe\">\n",
       "  <thead>\n",
       "    <tr style=\"text-align: right;\">\n",
       "      <th></th>\n",
       "      <th>Marshall - Sun Studio</th>\n",
       "      <th>Monroe - High Cotton / Edge Alley</th>\n",
       "      <th>Monroe &amp; Main</th>\n",
       "      <th>Peabody &amp; Main</th>\n",
       "      <th>Jefferson &amp; Main</th>\n",
       "      <th>Second St</th>\n",
       "      <th>S. Main &amp; Pontotoc</th>\n",
       "      <th>Weekday</th>\n",
       "    </tr>\n",
       "    <tr>\n",
       "      <th>Time</th>\n",
       "      <th></th>\n",
       "      <th></th>\n",
       "      <th></th>\n",
       "      <th></th>\n",
       "      <th></th>\n",
       "      <th></th>\n",
       "      <th></th>\n",
       "      <th></th>\n",
       "    </tr>\n",
       "  </thead>\n",
       "  <tbody>\n",
       "    <tr>\n",
       "      <th>2018-07-02 00:00:00</th>\n",
       "      <td>1</td>\n",
       "      <td>0</td>\n",
       "      <td>35</td>\n",
       "      <td>47</td>\n",
       "      <td>43</td>\n",
       "      <td>46</td>\n",
       "      <td>10</td>\n",
       "      <td>Monday</td>\n",
       "    </tr>\n",
       "    <tr>\n",
       "      <th>2018-07-02 01:00:00</th>\n",
       "      <td>1</td>\n",
       "      <td>0</td>\n",
       "      <td>11</td>\n",
       "      <td>41</td>\n",
       "      <td>14</td>\n",
       "      <td>54</td>\n",
       "      <td>6</td>\n",
       "      <td>Monday</td>\n",
       "    </tr>\n",
       "    <tr>\n",
       "      <th>2018-07-02 02:00:00</th>\n",
       "      <td>0</td>\n",
       "      <td>0</td>\n",
       "      <td>15</td>\n",
       "      <td>11</td>\n",
       "      <td>10</td>\n",
       "      <td>17</td>\n",
       "      <td>1</td>\n",
       "      <td>Monday</td>\n",
       "    </tr>\n",
       "    <tr>\n",
       "      <th>2018-07-02 03:00:00</th>\n",
       "      <td>0</td>\n",
       "      <td>0</td>\n",
       "      <td>23</td>\n",
       "      <td>6</td>\n",
       "      <td>6</td>\n",
       "      <td>18</td>\n",
       "      <td>3</td>\n",
       "      <td>Monday</td>\n",
       "    </tr>\n",
       "    <tr>\n",
       "      <th>2018-07-02 04:00:00</th>\n",
       "      <td>1</td>\n",
       "      <td>1</td>\n",
       "      <td>2</td>\n",
       "      <td>2</td>\n",
       "      <td>1</td>\n",
       "      <td>11</td>\n",
       "      <td>7</td>\n",
       "      <td>Monday</td>\n",
       "    </tr>\n",
       "    <tr>\n",
       "      <th>2018-07-02 05:00:00</th>\n",
       "      <td>1</td>\n",
       "      <td>0</td>\n",
       "      <td>29</td>\n",
       "      <td>9</td>\n",
       "      <td>12</td>\n",
       "      <td>24</td>\n",
       "      <td>6</td>\n",
       "      <td>Monday</td>\n",
       "    </tr>\n",
       "    <tr>\n",
       "      <th>2018-07-02 06:00:00</th>\n",
       "      <td>7</td>\n",
       "      <td>0</td>\n",
       "      <td>48</td>\n",
       "      <td>42</td>\n",
       "      <td>57</td>\n",
       "      <td>31</td>\n",
       "      <td>14</td>\n",
       "      <td>Monday</td>\n",
       "    </tr>\n",
       "    <tr>\n",
       "      <th>2018-07-02 07:00:00</th>\n",
       "      <td>2</td>\n",
       "      <td>0</td>\n",
       "      <td>90</td>\n",
       "      <td>61</td>\n",
       "      <td>101</td>\n",
       "      <td>40</td>\n",
       "      <td>18</td>\n",
       "      <td>Monday</td>\n",
       "    </tr>\n",
       "    <tr>\n",
       "      <th>2018-07-02 08:00:00</th>\n",
       "      <td>5</td>\n",
       "      <td>1</td>\n",
       "      <td>184</td>\n",
       "      <td>158</td>\n",
       "      <td>156</td>\n",
       "      <td>58</td>\n",
       "      <td>28</td>\n",
       "      <td>Monday</td>\n",
       "    </tr>\n",
       "    <tr>\n",
       "      <th>2018-07-02 09:00:00</th>\n",
       "      <td>11</td>\n",
       "      <td>3</td>\n",
       "      <td>170</td>\n",
       "      <td>187</td>\n",
       "      <td>174</td>\n",
       "      <td>102</td>\n",
       "      <td>42</td>\n",
       "      <td>Monday</td>\n",
       "    </tr>\n",
       "    <tr>\n",
       "      <th>2018-07-02 10:00:00</th>\n",
       "      <td>39</td>\n",
       "      <td>0</td>\n",
       "      <td>202</td>\n",
       "      <td>163</td>\n",
       "      <td>197</td>\n",
       "      <td>130</td>\n",
       "      <td>61</td>\n",
       "      <td>Monday</td>\n",
       "    </tr>\n",
       "    <tr>\n",
       "      <th>2018-07-02 11:00:00</th>\n",
       "      <td>35</td>\n",
       "      <td>0</td>\n",
       "      <td>402</td>\n",
       "      <td>318</td>\n",
       "      <td>266</td>\n",
       "      <td>265</td>\n",
       "      <td>67</td>\n",
       "      <td>Monday</td>\n",
       "    </tr>\n",
       "    <tr>\n",
       "      <th>2018-07-02 12:00:00</th>\n",
       "      <td>77</td>\n",
       "      <td>4</td>\n",
       "      <td>543</td>\n",
       "      <td>487</td>\n",
       "      <td>328</td>\n",
       "      <td>305</td>\n",
       "      <td>73</td>\n",
       "      <td>Monday</td>\n",
       "    </tr>\n",
       "    <tr>\n",
       "      <th>2018-07-02 13:00:00</th>\n",
       "      <td>55</td>\n",
       "      <td>0</td>\n",
       "      <td>448</td>\n",
       "      <td>443</td>\n",
       "      <td>254</td>\n",
       "      <td>206</td>\n",
       "      <td>86</td>\n",
       "      <td>Monday</td>\n",
       "    </tr>\n",
       "    <tr>\n",
       "      <th>2018-07-02 14:00:00</th>\n",
       "      <td>65</td>\n",
       "      <td>0</td>\n",
       "      <td>334</td>\n",
       "      <td>352</td>\n",
       "      <td>166</td>\n",
       "      <td>184</td>\n",
       "      <td>86</td>\n",
       "      <td>Monday</td>\n",
       "    </tr>\n",
       "    <tr>\n",
       "      <th>2018-07-02 15:00:00</th>\n",
       "      <td>56</td>\n",
       "      <td>1</td>\n",
       "      <td>225</td>\n",
       "      <td>232</td>\n",
       "      <td>129</td>\n",
       "      <td>186</td>\n",
       "      <td>34</td>\n",
       "      <td>Monday</td>\n",
       "    </tr>\n",
       "    <tr>\n",
       "      <th>2018-07-02 16:00:00</th>\n",
       "      <td>85</td>\n",
       "      <td>0</td>\n",
       "      <td>232</td>\n",
       "      <td>264</td>\n",
       "      <td>148</td>\n",
       "      <td>190</td>\n",
       "      <td>47</td>\n",
       "      <td>Monday</td>\n",
       "    </tr>\n",
       "    <tr>\n",
       "      <th>2018-07-02 17:00:00</th>\n",
       "      <td>38</td>\n",
       "      <td>1</td>\n",
       "      <td>333</td>\n",
       "      <td>241</td>\n",
       "      <td>169</td>\n",
       "      <td>288</td>\n",
       "      <td>41</td>\n",
       "      <td>Monday</td>\n",
       "    </tr>\n",
       "    <tr>\n",
       "      <th>2018-07-02 18:00:00</th>\n",
       "      <td>50</td>\n",
       "      <td>0</td>\n",
       "      <td>322</td>\n",
       "      <td>288</td>\n",
       "      <td>172</td>\n",
       "      <td>243</td>\n",
       "      <td>63</td>\n",
       "      <td>Monday</td>\n",
       "    </tr>\n",
       "    <tr>\n",
       "      <th>2018-07-02 19:00:00</th>\n",
       "      <td>0</td>\n",
       "      <td>0</td>\n",
       "      <td>286</td>\n",
       "      <td>334</td>\n",
       "      <td>206</td>\n",
       "      <td>253</td>\n",
       "      <td>88</td>\n",
       "      <td>Monday</td>\n",
       "    </tr>\n",
       "    <tr>\n",
       "      <th>2018-07-02 20:00:00</th>\n",
       "      <td>27</td>\n",
       "      <td>1</td>\n",
       "      <td>199</td>\n",
       "      <td>363</td>\n",
       "      <td>171</td>\n",
       "      <td>256</td>\n",
       "      <td>93</td>\n",
       "      <td>Monday</td>\n",
       "    </tr>\n",
       "    <tr>\n",
       "      <th>2018-07-02 21:00:00</th>\n",
       "      <td>0</td>\n",
       "      <td>1</td>\n",
       "      <td>206</td>\n",
       "      <td>160</td>\n",
       "      <td>171</td>\n",
       "      <td>268</td>\n",
       "      <td>41</td>\n",
       "      <td>Monday</td>\n",
       "    </tr>\n",
       "    <tr>\n",
       "      <th>2018-07-02 22:00:00</th>\n",
       "      <td>0</td>\n",
       "      <td>0</td>\n",
       "      <td>107</td>\n",
       "      <td>108</td>\n",
       "      <td>62</td>\n",
       "      <td>232</td>\n",
       "      <td>50</td>\n",
       "      <td>Monday</td>\n",
       "    </tr>\n",
       "    <tr>\n",
       "      <th>2018-07-02 23:00:00</th>\n",
       "      <td>0</td>\n",
       "      <td>1</td>\n",
       "      <td>94</td>\n",
       "      <td>56</td>\n",
       "      <td>62</td>\n",
       "      <td>127</td>\n",
       "      <td>24</td>\n",
       "      <td>Monday</td>\n",
       "    </tr>\n",
       "    <tr>\n",
       "      <th>2018-07-09 00:00:00</th>\n",
       "      <td>0</td>\n",
       "      <td>0</td>\n",
       "      <td>41</td>\n",
       "      <td>28</td>\n",
       "      <td>27</td>\n",
       "      <td>96</td>\n",
       "      <td>2</td>\n",
       "      <td>Monday</td>\n",
       "    </tr>\n",
       "    <tr>\n",
       "      <th>2018-07-09 01:00:00</th>\n",
       "      <td>0</td>\n",
       "      <td>0</td>\n",
       "      <td>14</td>\n",
       "      <td>25</td>\n",
       "      <td>8</td>\n",
       "      <td>48</td>\n",
       "      <td>7</td>\n",
       "      <td>Monday</td>\n",
       "    </tr>\n",
       "    <tr>\n",
       "      <th>2018-07-09 02:00:00</th>\n",
       "      <td>1</td>\n",
       "      <td>0</td>\n",
       "      <td>15</td>\n",
       "      <td>21</td>\n",
       "      <td>8</td>\n",
       "      <td>22</td>\n",
       "      <td>6</td>\n",
       "      <td>Monday</td>\n",
       "    </tr>\n",
       "    <tr>\n",
       "      <th>2018-07-09 03:00:00</th>\n",
       "      <td>0</td>\n",
       "      <td>0</td>\n",
       "      <td>10</td>\n",
       "      <td>14</td>\n",
       "      <td>10</td>\n",
       "      <td>5</td>\n",
       "      <td>2</td>\n",
       "      <td>Monday</td>\n",
       "    </tr>\n",
       "    <tr>\n",
       "      <th>2018-07-09 04:00:00</th>\n",
       "      <td>1</td>\n",
       "      <td>0</td>\n",
       "      <td>2</td>\n",
       "      <td>5</td>\n",
       "      <td>6</td>\n",
       "      <td>12</td>\n",
       "      <td>0</td>\n",
       "      <td>Monday</td>\n",
       "    </tr>\n",
       "    <tr>\n",
       "      <th>2018-07-09 05:00:00</th>\n",
       "      <td>2</td>\n",
       "      <td>1</td>\n",
       "      <td>18</td>\n",
       "      <td>12</td>\n",
       "      <td>18</td>\n",
       "      <td>14</td>\n",
       "      <td>6</td>\n",
       "      <td>Monday</td>\n",
       "    </tr>\n",
       "    <tr>\n",
       "      <th>...</th>\n",
       "      <td>...</td>\n",
       "      <td>...</td>\n",
       "      <td>...</td>\n",
       "      <td>...</td>\n",
       "      <td>...</td>\n",
       "      <td>...</td>\n",
       "      <td>...</td>\n",
       "      <td>...</td>\n",
       "    </tr>\n",
       "    <tr>\n",
       "      <th>2018-11-19 18:00:00</th>\n",
       "      <td>1</td>\n",
       "      <td>4</td>\n",
       "      <td>293</td>\n",
       "      <td>291</td>\n",
       "      <td>134</td>\n",
       "      <td>462</td>\n",
       "      <td>186</td>\n",
       "      <td>Monday</td>\n",
       "    </tr>\n",
       "    <tr>\n",
       "      <th>2018-11-19 19:00:00</th>\n",
       "      <td>2</td>\n",
       "      <td>4</td>\n",
       "      <td>214</td>\n",
       "      <td>213</td>\n",
       "      <td>93</td>\n",
       "      <td>325</td>\n",
       "      <td>187</td>\n",
       "      <td>Monday</td>\n",
       "    </tr>\n",
       "    <tr>\n",
       "      <th>2018-11-19 20:00:00</th>\n",
       "      <td>1</td>\n",
       "      <td>1</td>\n",
       "      <td>161</td>\n",
       "      <td>134</td>\n",
       "      <td>98</td>\n",
       "      <td>226</td>\n",
       "      <td>61</td>\n",
       "      <td>Monday</td>\n",
       "    </tr>\n",
       "    <tr>\n",
       "      <th>2018-11-19 21:00:00</th>\n",
       "      <td>0</td>\n",
       "      <td>0</td>\n",
       "      <td>144</td>\n",
       "      <td>132</td>\n",
       "      <td>78</td>\n",
       "      <td>292</td>\n",
       "      <td>115</td>\n",
       "      <td>Monday</td>\n",
       "    </tr>\n",
       "    <tr>\n",
       "      <th>2018-11-19 22:00:00</th>\n",
       "      <td>0</td>\n",
       "      <td>1</td>\n",
       "      <td>117</td>\n",
       "      <td>139</td>\n",
       "      <td>55</td>\n",
       "      <td>179</td>\n",
       "      <td>90</td>\n",
       "      <td>Monday</td>\n",
       "    </tr>\n",
       "    <tr>\n",
       "      <th>2018-11-19 23:00:00</th>\n",
       "      <td>0</td>\n",
       "      <td>0</td>\n",
       "      <td>69</td>\n",
       "      <td>74</td>\n",
       "      <td>37</td>\n",
       "      <td>109</td>\n",
       "      <td>25</td>\n",
       "      <td>Monday</td>\n",
       "    </tr>\n",
       "    <tr>\n",
       "      <th>2018-11-26 00:00:00</th>\n",
       "      <td>1</td>\n",
       "      <td>0</td>\n",
       "      <td>10</td>\n",
       "      <td>26</td>\n",
       "      <td>1</td>\n",
       "      <td>10</td>\n",
       "      <td>3</td>\n",
       "      <td>Monday</td>\n",
       "    </tr>\n",
       "    <tr>\n",
       "      <th>2018-11-26 01:00:00</th>\n",
       "      <td>0</td>\n",
       "      <td>1</td>\n",
       "      <td>7</td>\n",
       "      <td>13</td>\n",
       "      <td>0</td>\n",
       "      <td>7</td>\n",
       "      <td>2</td>\n",
       "      <td>Monday</td>\n",
       "    </tr>\n",
       "    <tr>\n",
       "      <th>2018-11-26 02:00:00</th>\n",
       "      <td>0</td>\n",
       "      <td>0</td>\n",
       "      <td>2</td>\n",
       "      <td>10</td>\n",
       "      <td>0</td>\n",
       "      <td>0</td>\n",
       "      <td>0</td>\n",
       "      <td>Monday</td>\n",
       "    </tr>\n",
       "    <tr>\n",
       "      <th>2018-11-26 03:00:00</th>\n",
       "      <td>0</td>\n",
       "      <td>0</td>\n",
       "      <td>3</td>\n",
       "      <td>6</td>\n",
       "      <td>2</td>\n",
       "      <td>3</td>\n",
       "      <td>0</td>\n",
       "      <td>Monday</td>\n",
       "    </tr>\n",
       "    <tr>\n",
       "      <th>2018-11-26 04:00:00</th>\n",
       "      <td>1</td>\n",
       "      <td>0</td>\n",
       "      <td>1</td>\n",
       "      <td>3</td>\n",
       "      <td>2</td>\n",
       "      <td>0</td>\n",
       "      <td>1</td>\n",
       "      <td>Monday</td>\n",
       "    </tr>\n",
       "    <tr>\n",
       "      <th>2018-11-26 05:00:00</th>\n",
       "      <td>1</td>\n",
       "      <td>0</td>\n",
       "      <td>6</td>\n",
       "      <td>5</td>\n",
       "      <td>5</td>\n",
       "      <td>1</td>\n",
       "      <td>3</td>\n",
       "      <td>Monday</td>\n",
       "    </tr>\n",
       "    <tr>\n",
       "      <th>2018-11-26 06:00:00</th>\n",
       "      <td>0</td>\n",
       "      <td>3</td>\n",
       "      <td>21</td>\n",
       "      <td>26</td>\n",
       "      <td>29</td>\n",
       "      <td>14</td>\n",
       "      <td>12</td>\n",
       "      <td>Monday</td>\n",
       "    </tr>\n",
       "    <tr>\n",
       "      <th>2018-11-26 07:00:00</th>\n",
       "      <td>1</td>\n",
       "      <td>2</td>\n",
       "      <td>118</td>\n",
       "      <td>63</td>\n",
       "      <td>82</td>\n",
       "      <td>50</td>\n",
       "      <td>19</td>\n",
       "      <td>Monday</td>\n",
       "    </tr>\n",
       "    <tr>\n",
       "      <th>2018-11-26 08:00:00</th>\n",
       "      <td>15</td>\n",
       "      <td>1</td>\n",
       "      <td>158</td>\n",
       "      <td>97</td>\n",
       "      <td>127</td>\n",
       "      <td>55</td>\n",
       "      <td>18</td>\n",
       "      <td>Monday</td>\n",
       "    </tr>\n",
       "    <tr>\n",
       "      <th>2018-11-26 09:00:00</th>\n",
       "      <td>5</td>\n",
       "      <td>1</td>\n",
       "      <td>138</td>\n",
       "      <td>107</td>\n",
       "      <td>134</td>\n",
       "      <td>75</td>\n",
       "      <td>14</td>\n",
       "      <td>Monday</td>\n",
       "    </tr>\n",
       "    <tr>\n",
       "      <th>2018-11-26 10:00:00</th>\n",
       "      <td>12</td>\n",
       "      <td>1</td>\n",
       "      <td>183</td>\n",
       "      <td>141</td>\n",
       "      <td>123</td>\n",
       "      <td>96</td>\n",
       "      <td>28</td>\n",
       "      <td>Monday</td>\n",
       "    </tr>\n",
       "    <tr>\n",
       "      <th>2018-11-26 11:00:00</th>\n",
       "      <td>13</td>\n",
       "      <td>0</td>\n",
       "      <td>314</td>\n",
       "      <td>232</td>\n",
       "      <td>178</td>\n",
       "      <td>178</td>\n",
       "      <td>23</td>\n",
       "      <td>Monday</td>\n",
       "    </tr>\n",
       "    <tr>\n",
       "      <th>2018-11-26 12:00:00</th>\n",
       "      <td>10</td>\n",
       "      <td>0</td>\n",
       "      <td>458</td>\n",
       "      <td>273</td>\n",
       "      <td>218</td>\n",
       "      <td>300</td>\n",
       "      <td>63</td>\n",
       "      <td>Monday</td>\n",
       "    </tr>\n",
       "    <tr>\n",
       "      <th>2018-11-26 13:00:00</th>\n",
       "      <td>7</td>\n",
       "      <td>5</td>\n",
       "      <td>302</td>\n",
       "      <td>264</td>\n",
       "      <td>192</td>\n",
       "      <td>183</td>\n",
       "      <td>56</td>\n",
       "      <td>Monday</td>\n",
       "    </tr>\n",
       "    <tr>\n",
       "      <th>2018-11-26 14:00:00</th>\n",
       "      <td>13</td>\n",
       "      <td>1</td>\n",
       "      <td>241</td>\n",
       "      <td>234</td>\n",
       "      <td>122</td>\n",
       "      <td>104</td>\n",
       "      <td>78</td>\n",
       "      <td>Monday</td>\n",
       "    </tr>\n",
       "    <tr>\n",
       "      <th>2018-11-26 15:00:00</th>\n",
       "      <td>13</td>\n",
       "      <td>0</td>\n",
       "      <td>214</td>\n",
       "      <td>163</td>\n",
       "      <td>137</td>\n",
       "      <td>113</td>\n",
       "      <td>53</td>\n",
       "      <td>Monday</td>\n",
       "    </tr>\n",
       "    <tr>\n",
       "      <th>2018-11-26 16:00:00</th>\n",
       "      <td>29</td>\n",
       "      <td>3</td>\n",
       "      <td>214</td>\n",
       "      <td>166</td>\n",
       "      <td>181</td>\n",
       "      <td>192</td>\n",
       "      <td>54</td>\n",
       "      <td>Monday</td>\n",
       "    </tr>\n",
       "    <tr>\n",
       "      <th>2018-11-26 17:00:00</th>\n",
       "      <td>10</td>\n",
       "      <td>0</td>\n",
       "      <td>205</td>\n",
       "      <td>130</td>\n",
       "      <td>130</td>\n",
       "      <td>142</td>\n",
       "      <td>56</td>\n",
       "      <td>Monday</td>\n",
       "    </tr>\n",
       "    <tr>\n",
       "      <th>2018-11-26 18:00:00</th>\n",
       "      <td>1</td>\n",
       "      <td>0</td>\n",
       "      <td>213</td>\n",
       "      <td>110</td>\n",
       "      <td>129</td>\n",
       "      <td>180</td>\n",
       "      <td>66</td>\n",
       "      <td>Monday</td>\n",
       "    </tr>\n",
       "    <tr>\n",
       "      <th>2018-11-26 19:00:00</th>\n",
       "      <td>0</td>\n",
       "      <td>0</td>\n",
       "      <td>186</td>\n",
       "      <td>100</td>\n",
       "      <td>161</td>\n",
       "      <td>233</td>\n",
       "      <td>26</td>\n",
       "      <td>Monday</td>\n",
       "    </tr>\n",
       "    <tr>\n",
       "      <th>2018-11-26 20:00:00</th>\n",
       "      <td>3</td>\n",
       "      <td>1</td>\n",
       "      <td>117</td>\n",
       "      <td>73</td>\n",
       "      <td>54</td>\n",
       "      <td>247</td>\n",
       "      <td>15</td>\n",
       "      <td>Monday</td>\n",
       "    </tr>\n",
       "    <tr>\n",
       "      <th>2018-11-26 21:00:00</th>\n",
       "      <td>3</td>\n",
       "      <td>1</td>\n",
       "      <td>62</td>\n",
       "      <td>50</td>\n",
       "      <td>52</td>\n",
       "      <td>160</td>\n",
       "      <td>12</td>\n",
       "      <td>Monday</td>\n",
       "    </tr>\n",
       "    <tr>\n",
       "      <th>2018-11-26 22:00:00</th>\n",
       "      <td>2</td>\n",
       "      <td>0</td>\n",
       "      <td>63</td>\n",
       "      <td>29</td>\n",
       "      <td>37</td>\n",
       "      <td>157</td>\n",
       "      <td>6</td>\n",
       "      <td>Monday</td>\n",
       "    </tr>\n",
       "    <tr>\n",
       "      <th>2018-11-26 23:00:00</th>\n",
       "      <td>0</td>\n",
       "      <td>0</td>\n",
       "      <td>40</td>\n",
       "      <td>25</td>\n",
       "      <td>35</td>\n",
       "      <td>47</td>\n",
       "      <td>5</td>\n",
       "      <td>Monday</td>\n",
       "    </tr>\n",
       "  </tbody>\n",
       "</table>\n",
       "<p>528 rows × 8 columns</p>\n",
       "</div>"
      ],
      "text/plain": [
       "                     Marshall - Sun Studio  Monroe - High Cotton / Edge Alley  \\\n",
       "Time                                                                            \n",
       "2018-07-02 00:00:00                      1                                  0   \n",
       "2018-07-02 01:00:00                      1                                  0   \n",
       "2018-07-02 02:00:00                      0                                  0   \n",
       "2018-07-02 03:00:00                      0                                  0   \n",
       "2018-07-02 04:00:00                      1                                  1   \n",
       "2018-07-02 05:00:00                      1                                  0   \n",
       "2018-07-02 06:00:00                      7                                  0   \n",
       "2018-07-02 07:00:00                      2                                  0   \n",
       "2018-07-02 08:00:00                      5                                  1   \n",
       "2018-07-02 09:00:00                     11                                  3   \n",
       "2018-07-02 10:00:00                     39                                  0   \n",
       "2018-07-02 11:00:00                     35                                  0   \n",
       "2018-07-02 12:00:00                     77                                  4   \n",
       "2018-07-02 13:00:00                     55                                  0   \n",
       "2018-07-02 14:00:00                     65                                  0   \n",
       "2018-07-02 15:00:00                     56                                  1   \n",
       "2018-07-02 16:00:00                     85                                  0   \n",
       "2018-07-02 17:00:00                     38                                  1   \n",
       "2018-07-02 18:00:00                     50                                  0   \n",
       "2018-07-02 19:00:00                      0                                  0   \n",
       "2018-07-02 20:00:00                     27                                  1   \n",
       "2018-07-02 21:00:00                      0                                  1   \n",
       "2018-07-02 22:00:00                      0                                  0   \n",
       "2018-07-02 23:00:00                      0                                  1   \n",
       "2018-07-09 00:00:00                      0                                  0   \n",
       "2018-07-09 01:00:00                      0                                  0   \n",
       "2018-07-09 02:00:00                      1                                  0   \n",
       "2018-07-09 03:00:00                      0                                  0   \n",
       "2018-07-09 04:00:00                      1                                  0   \n",
       "2018-07-09 05:00:00                      2                                  1   \n",
       "...                                    ...                                ...   \n",
       "2018-11-19 18:00:00                      1                                  4   \n",
       "2018-11-19 19:00:00                      2                                  4   \n",
       "2018-11-19 20:00:00                      1                                  1   \n",
       "2018-11-19 21:00:00                      0                                  0   \n",
       "2018-11-19 22:00:00                      0                                  1   \n",
       "2018-11-19 23:00:00                      0                                  0   \n",
       "2018-11-26 00:00:00                      1                                  0   \n",
       "2018-11-26 01:00:00                      0                                  1   \n",
       "2018-11-26 02:00:00                      0                                  0   \n",
       "2018-11-26 03:00:00                      0                                  0   \n",
       "2018-11-26 04:00:00                      1                                  0   \n",
       "2018-11-26 05:00:00                      1                                  0   \n",
       "2018-11-26 06:00:00                      0                                  3   \n",
       "2018-11-26 07:00:00                      1                                  2   \n",
       "2018-11-26 08:00:00                     15                                  1   \n",
       "2018-11-26 09:00:00                      5                                  1   \n",
       "2018-11-26 10:00:00                     12                                  1   \n",
       "2018-11-26 11:00:00                     13                                  0   \n",
       "2018-11-26 12:00:00                     10                                  0   \n",
       "2018-11-26 13:00:00                      7                                  5   \n",
       "2018-11-26 14:00:00                     13                                  1   \n",
       "2018-11-26 15:00:00                     13                                  0   \n",
       "2018-11-26 16:00:00                     29                                  3   \n",
       "2018-11-26 17:00:00                     10                                  0   \n",
       "2018-11-26 18:00:00                      1                                  0   \n",
       "2018-11-26 19:00:00                      0                                  0   \n",
       "2018-11-26 20:00:00                      3                                  1   \n",
       "2018-11-26 21:00:00                      3                                  1   \n",
       "2018-11-26 22:00:00                      2                                  0   \n",
       "2018-11-26 23:00:00                      0                                  0   \n",
       "\n",
       "                     Monroe & Main  Peabody & Main  Jefferson & Main  \\\n",
       "Time                                                                   \n",
       "2018-07-02 00:00:00             35              47                43   \n",
       "2018-07-02 01:00:00             11              41                14   \n",
       "2018-07-02 02:00:00             15              11                10   \n",
       "2018-07-02 03:00:00             23               6                 6   \n",
       "2018-07-02 04:00:00              2               2                 1   \n",
       "2018-07-02 05:00:00             29               9                12   \n",
       "2018-07-02 06:00:00             48              42                57   \n",
       "2018-07-02 07:00:00             90              61               101   \n",
       "2018-07-02 08:00:00            184             158               156   \n",
       "2018-07-02 09:00:00            170             187               174   \n",
       "2018-07-02 10:00:00            202             163               197   \n",
       "2018-07-02 11:00:00            402             318               266   \n",
       "2018-07-02 12:00:00            543             487               328   \n",
       "2018-07-02 13:00:00            448             443               254   \n",
       "2018-07-02 14:00:00            334             352               166   \n",
       "2018-07-02 15:00:00            225             232               129   \n",
       "2018-07-02 16:00:00            232             264               148   \n",
       "2018-07-02 17:00:00            333             241               169   \n",
       "2018-07-02 18:00:00            322             288               172   \n",
       "2018-07-02 19:00:00            286             334               206   \n",
       "2018-07-02 20:00:00            199             363               171   \n",
       "2018-07-02 21:00:00            206             160               171   \n",
       "2018-07-02 22:00:00            107             108                62   \n",
       "2018-07-02 23:00:00             94              56                62   \n",
       "2018-07-09 00:00:00             41              28                27   \n",
       "2018-07-09 01:00:00             14              25                 8   \n",
       "2018-07-09 02:00:00             15              21                 8   \n",
       "2018-07-09 03:00:00             10              14                10   \n",
       "2018-07-09 04:00:00              2               5                 6   \n",
       "2018-07-09 05:00:00             18              12                18   \n",
       "...                            ...             ...               ...   \n",
       "2018-11-19 18:00:00            293             291               134   \n",
       "2018-11-19 19:00:00            214             213                93   \n",
       "2018-11-19 20:00:00            161             134                98   \n",
       "2018-11-19 21:00:00            144             132                78   \n",
       "2018-11-19 22:00:00            117             139                55   \n",
       "2018-11-19 23:00:00             69              74                37   \n",
       "2018-11-26 00:00:00             10              26                 1   \n",
       "2018-11-26 01:00:00              7              13                 0   \n",
       "2018-11-26 02:00:00              2              10                 0   \n",
       "2018-11-26 03:00:00              3               6                 2   \n",
       "2018-11-26 04:00:00              1               3                 2   \n",
       "2018-11-26 05:00:00              6               5                 5   \n",
       "2018-11-26 06:00:00             21              26                29   \n",
       "2018-11-26 07:00:00            118              63                82   \n",
       "2018-11-26 08:00:00            158              97               127   \n",
       "2018-11-26 09:00:00            138             107               134   \n",
       "2018-11-26 10:00:00            183             141               123   \n",
       "2018-11-26 11:00:00            314             232               178   \n",
       "2018-11-26 12:00:00            458             273               218   \n",
       "2018-11-26 13:00:00            302             264               192   \n",
       "2018-11-26 14:00:00            241             234               122   \n",
       "2018-11-26 15:00:00            214             163               137   \n",
       "2018-11-26 16:00:00            214             166               181   \n",
       "2018-11-26 17:00:00            205             130               130   \n",
       "2018-11-26 18:00:00            213             110               129   \n",
       "2018-11-26 19:00:00            186             100               161   \n",
       "2018-11-26 20:00:00            117              73                54   \n",
       "2018-11-26 21:00:00             62              50                52   \n",
       "2018-11-26 22:00:00             63              29                37   \n",
       "2018-11-26 23:00:00             40              25                35   \n",
       "\n",
       "                     Second St  S. Main & Pontotoc Weekday  \n",
       "Time                                                        \n",
       "2018-07-02 00:00:00         46                  10  Monday  \n",
       "2018-07-02 01:00:00         54                   6  Monday  \n",
       "2018-07-02 02:00:00         17                   1  Monday  \n",
       "2018-07-02 03:00:00         18                   3  Monday  \n",
       "2018-07-02 04:00:00         11                   7  Monday  \n",
       "2018-07-02 05:00:00         24                   6  Monday  \n",
       "2018-07-02 06:00:00         31                  14  Monday  \n",
       "2018-07-02 07:00:00         40                  18  Monday  \n",
       "2018-07-02 08:00:00         58                  28  Monday  \n",
       "2018-07-02 09:00:00        102                  42  Monday  \n",
       "2018-07-02 10:00:00        130                  61  Monday  \n",
       "2018-07-02 11:00:00        265                  67  Monday  \n",
       "2018-07-02 12:00:00        305                  73  Monday  \n",
       "2018-07-02 13:00:00        206                  86  Monday  \n",
       "2018-07-02 14:00:00        184                  86  Monday  \n",
       "2018-07-02 15:00:00        186                  34  Monday  \n",
       "2018-07-02 16:00:00        190                  47  Monday  \n",
       "2018-07-02 17:00:00        288                  41  Monday  \n",
       "2018-07-02 18:00:00        243                  63  Monday  \n",
       "2018-07-02 19:00:00        253                  88  Monday  \n",
       "2018-07-02 20:00:00        256                  93  Monday  \n",
       "2018-07-02 21:00:00        268                  41  Monday  \n",
       "2018-07-02 22:00:00        232                  50  Monday  \n",
       "2018-07-02 23:00:00        127                  24  Monday  \n",
       "2018-07-09 00:00:00         96                   2  Monday  \n",
       "2018-07-09 01:00:00         48                   7  Monday  \n",
       "2018-07-09 02:00:00         22                   6  Monday  \n",
       "2018-07-09 03:00:00          5                   2  Monday  \n",
       "2018-07-09 04:00:00         12                   0  Monday  \n",
       "2018-07-09 05:00:00         14                   6  Monday  \n",
       "...                        ...                 ...     ...  \n",
       "2018-11-19 18:00:00        462                 186  Monday  \n",
       "2018-11-19 19:00:00        325                 187  Monday  \n",
       "2018-11-19 20:00:00        226                  61  Monday  \n",
       "2018-11-19 21:00:00        292                 115  Monday  \n",
       "2018-11-19 22:00:00        179                  90  Monday  \n",
       "2018-11-19 23:00:00        109                  25  Monday  \n",
       "2018-11-26 00:00:00         10                   3  Monday  \n",
       "2018-11-26 01:00:00          7                   2  Monday  \n",
       "2018-11-26 02:00:00          0                   0  Monday  \n",
       "2018-11-26 03:00:00          3                   0  Monday  \n",
       "2018-11-26 04:00:00          0                   1  Monday  \n",
       "2018-11-26 05:00:00          1                   3  Monday  \n",
       "2018-11-26 06:00:00         14                  12  Monday  \n",
       "2018-11-26 07:00:00         50                  19  Monday  \n",
       "2018-11-26 08:00:00         55                  18  Monday  \n",
       "2018-11-26 09:00:00         75                  14  Monday  \n",
       "2018-11-26 10:00:00         96                  28  Monday  \n",
       "2018-11-26 11:00:00        178                  23  Monday  \n",
       "2018-11-26 12:00:00        300                  63  Monday  \n",
       "2018-11-26 13:00:00        183                  56  Monday  \n",
       "2018-11-26 14:00:00        104                  78  Monday  \n",
       "2018-11-26 15:00:00        113                  53  Monday  \n",
       "2018-11-26 16:00:00        192                  54  Monday  \n",
       "2018-11-26 17:00:00        142                  56  Monday  \n",
       "2018-11-26 18:00:00        180                  66  Monday  \n",
       "2018-11-26 19:00:00        233                  26  Monday  \n",
       "2018-11-26 20:00:00        247                  15  Monday  \n",
       "2018-11-26 21:00:00        160                  12  Monday  \n",
       "2018-11-26 22:00:00        157                   6  Monday  \n",
       "2018-11-26 23:00:00         47                   5  Monday  \n",
       "\n",
       "[528 rows x 8 columns]"
      ]
     },
     "execution_count": 27,
     "metadata": {},
     "output_type": "execute_result"
    }
   ],
   "source": [
    "monday"
   ]
  },
  {
   "cell_type": "code",
   "execution_count": 28,
   "metadata": {},
   "outputs": [
    {
     "data": {
      "text/plain": [
       "<matplotlib.axes._subplots.AxesSubplot at 0x1c2d7c5e48>"
      ]
     },
     "execution_count": 28,
     "metadata": {},
     "output_type": "execute_result"
    },
    {
     "data": {
      "image/png": "[encoded data removed]",
      "text/plain": [
       "<Figure size 432x288 with 1 Axes>"
      ]
     },
     "metadata": {
      "needs_background": "light"
     },
     "output_type": "display_data"
    }
   ],
   "source": [
    "df = peds[peds.Weekday.isin(peds.Weekday.value_counts().index)]\n",
    "sns.boxplot(\n",
    "    x='Weekday',\n",
    "    y='Second St',\n",
    "    data=df\n",
    ")"
   ]
  },
  {
   "cell_type": "code",
   "execution_count": 29,
   "metadata": {},
   "outputs": [
    {
     "data": {
      "text/plain": [
       "<matplotlib.axes._subplots.AxesSubplot at 0x1c2dda7b70>"
      ]
     },
     "execution_count": 29,
     "metadata": {},
     "output_type": "execute_result"
    },
    {
     "data": {
      "image/png": "[encoded data removed]",
      "text/plain": [
       "<Figure size 432x288 with 1 Axes>"
      ]
     },
     "metadata": {
      "needs_background": "light"
     },
     "output_type": "display_data"
    }
   ],
   "source": [
    "df = peds[peds.Weekday.isin(peds.Weekday.value_counts().index)]\n",
    "sns.boxplot(\n",
    "    x='Weekday',\n",
    "    y='Monroe & Main',\n",
    "    data=df\n",
    ")"
   ]
  },
  {
   "cell_type": "code",
   "execution_count": 30,
   "metadata": {
    "scrolled": false
   },
   "outputs": [
    {
     "name": "stderr",
     "output_type": "stream",
     "text": [
      "/Users/zachcornelison/anaconda3/lib/python3.7/site-packages/seaborn/axisgrid.py:715: UserWarning:\n",
      "\n",
      "Using the boxplot function without specifying `order` is likely to produce an incorrect plot.\n",
      "\n"
     ]
    },
    {
     "data": {
      "text/plain": [
       "<seaborn.axisgrid.FacetGrid at 0x1c2ddb3630>"
      ]
     },
     "execution_count": 30,
     "metadata": {},
     "output_type": "execute_result"
    },
    {
     "data": {
      "image/png": "[encoded data removed]",
      "text/plain": [
       "<Figure size 648x648 with 7 Axes>"
      ]
     },
     "metadata": {
      "needs_background": "light"
     },
     "output_type": "display_data"
    }
   ],
   "source": [
    "g = sns.FacetGrid(peds, col=\"Weekday\", col_wrap = 3)\n",
    "g.map(sns.boxplot, 'Second St')"
   ]
  },
  {
   "cell_type": "code",
   "execution_count": 31,
   "metadata": {
    "scrolled": false
   },
   "outputs": [
    {
     "data": {
      "text/plain": [
       "<seaborn.axisgrid.PairGrid at 0x1c2e1afc88>"
      ]
     },
     "execution_count": 31,
     "metadata": {},
     "output_type": "execute_result"
    },
    {
     "data": {
      "image/png": "[encoded data removed]",
      "text/plain": [
       "<Figure size 540x540 with 12 Axes>"
      ]
     },
     "metadata": {
      "needs_background": "light"
     },
     "output_type": "display_data"
    }
   ],
   "source": [
    "sns.pairplot(peds[['Second St','Monroe & Main','Peabody & Main']])"
   ]
  }
 ],
 "metadata": {
  "kernelspec": {
   "display_name": "Python 3",
   "language": "python",
   "name": "python3"
  },
  "language_info": {
   "codemirror_mode": {
    "name": "ipython",
    "version": 3
   },
   "file_extension": ".py",
   "mimetype": "text/x-python",
   "name": "python",
   "nbconvert_exporter": "python",
   "pygments_lexer": "ipython3",
   "version": "3.7.0"
  }
 },
 "nbformat": 4,
 "nbformat_minor": 2
}
